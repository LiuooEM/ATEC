{
 "cells": [
  {
   "cell_type": "code",
   "execution_count": 1,
   "metadata": {
    "ExecuteTime": {
     "end_time": "2021-05-26T09:27:41.673695Z",
     "start_time": "2021-05-26T09:27:39.386861Z"
    }
   },
   "outputs": [
    {
     "name": "stderr",
     "output_type": "stream",
     "text": [
      "Using TensorFlow backend.\n"
     ]
    }
   ],
   "source": [
    "import argparse\n",
    "import torch\n",
    "import time\n",
    "import json\n",
    "import numpy as np\n",
    "import math\n",
    "import random\n",
    "import xml.etree.ElementTree as ET\n",
    "from config import flags\n",
    "from subprocess import check_output\n",
    "\n",
    "from utils_test import save_data, predict_boundary_test, predict_number_test, label_res14_xml, label_res15_xml, label_res16_xml, label_lap_xml\n",
    "from utils_train import generate_idx_word\n",
    "from generate_boundary_pred_label import return_predicted_boundary_test_label, generate_boundary_test_data, load_data_test, squad_test_data, save_test\n",
    "from generate_number_pred_label import generate_number_test_data, json_to_csv, return_predicted_number_test_label"
   ]
  },
  {
   "cell_type": "code",
   "execution_count": 2,
   "metadata": {
    "ExecuteTime": {
     "end_time": "2021-05-26T09:27:41.677272Z",
     "start_time": "2021-05-26T09:27:41.674768Z"
    }
   },
   "outputs": [],
   "source": [
    "seed = 1337\n",
    "np.random.seed(seed)\n",
    "random.seed(seed)\n",
    "torch.manual_seed(seed)\n",
    "torch.cuda.manual_seed(seed)\n",
    "flags.seed = seed"
   ]
  },
  {
   "cell_type": "code",
   "execution_count": 3,
   "metadata": {
    "ExecuteTime": {
     "end_time": "2021-05-26T09:27:41.689317Z",
     "start_time": "2021-05-26T09:27:41.678280Z"
    }
   },
   "outputs": [],
   "source": [
    "def test(model, test_X, test_y, raw_X, domain, command, template, run_epoch, boundary_process, crf, generate_data, batch_size, num_process):\n",
    "    pred_y = np.zeros((test_X.shape[0], test_X.shape[1]), np.int16)\n",
    "    idx_word = generate_idx_word(domain)\n",
    "    model.eval()\n",
    "    for offset in range(0, test_X.shape[0], batch_size):\n",
    "        batch_test_X_len = np.sum(test_X[offset:offset+batch_size] != 0, axis = 1)\n",
    "        batch_idx = batch_test_X_len.argsort()[::-1]\n",
    "        batch_test_X_len = batch_test_X_len[batch_idx]\n",
    "        batch_test_X_mask = (test_X[offset:offset + batch_size] != 0)[batch_idx].astype(np.uint8)\n",
    "        batch_test_X = test_X[offset:offset + batch_size][batch_idx]\n",
    "        \n",
    "        batch_test_X_mask = torch.from_numpy(batch_test_X_mask).long().cuda()\n",
    "        batch_test_X = torch.from_numpy(batch_test_X).long().cuda()\n",
    "        batch_pred_y, attention_weight=model(batch_test_X, batch_test_X_len, testing=True)\n",
    "        r_idx=batch_idx.argsort()\n",
    "        if crf:\n",
    "            batch_pred_y=[batch_pred_y[idx] for idx in r_idx]\n",
    "            for ix in range(len(batch_pred_y) ):\n",
    "                for jx in range(len(batch_pred_y[ix]) ):\n",
    "                    pred_y[offset+ix,jx]=batch_pred_y[ix][jx]\n",
    "        else:\n",
    "            batch_pred_y=batch_pred_y.data.cpu().numpy().argmax(axis=2)[r_idx]\n",
    "            pred_y[offset:offset+batch_size,:batch_pred_y.shape[1]]=batch_pred_y\n",
    "            attention_weight = attention_weight.transpose(0,1).cpu().detach().numpy()\n",
    "    assert len(pred_y) == len(test_X)\n",
    "    \n",
    "    if generate_data:\n",
    "        results = []\n",
    "        for j_th in range(len(test_X)):\n",
    "            result = []\n",
    "            words_num = test_X[j_th]\n",
    "            words_str = []\n",
    "            test_y_part = test_y[j_th]\n",
    "            for w in words_num:\n",
    "                if(w != 0):\n",
    "                    words_str.append(idx_word[w])\n",
    "            pred = pred_y[j_th]\n",
    "            for words_str, test_y_part, pred in zip(words_str, test_y_part, pred):\n",
    "                result.append(\" \".join([words_str, str(test_y_part), str(pred)]))\n",
    "            results.append(result)\n",
    "        save_data(domain, results, run_epoch)\n",
    "\n",
    "    if boundary_process:\n",
    "        generate_boundary_test_data(domain, run_epoch)\n",
    "        predict_boundary_test(domain, run_epoch)\n",
    "        pred_y = return_predicted_boundary_test_label(domain, run_epoch)\n",
    "        \n",
    "    if num_process:\n",
    "        if boundary_process:\n",
    "            results = []\n",
    "            for j_th in range(len(test_X)):\n",
    "                result = []\n",
    "                words_num = test_X[j_th]\n",
    "                words_str = []\n",
    "                test_y_part = test_y[j_th]\n",
    "                for w in words_num:\n",
    "                    if(w != 0):\n",
    "                        words_str.append(idx_word[w])\n",
    "                pred = pred_y[j_th]\n",
    "                for words_str, test_y_part, pred in zip(words_str, test_y_part, pred):\n",
    "                    result.append(\" \".join([words_str, str(test_y_part), str(pred)]))\n",
    "                results.append(result)\n",
    "            save_data(domain, results, run_epoch)\n",
    "            generate_number_test_data(domain, run_epoch)\n",
    "            json_to_csv(domain, run_epoch)\n",
    "            predict_number_test(domain, run_epoch)\n",
    "            pred_y = return_predicted_number_test_label(domain, run_epoch, pred_y)\n",
    "        else:\n",
    "            generate_number_test_data(domain, run_epoch)\n",
    "            json_to_csv(domain, run_epoch)\n",
    "            predict_number_test(domain, run_epoch)\n",
    "            pred_y = return_predicted_number_test_label(domain, run_epoch, pred_y)\n",
    "            \n",
    "    command = command.split()\n",
    "    if domain == 'restaurant':\n",
    "        label_res16_xml(template, command[6], raw_X, pred_y)\n",
    "        acc = check_output(command).split()\n",
    "        print(acc)\n",
    "        return float(acc[9][10:])\n",
    "    elif domain == 'laptop':\n",
    "        label_lap_xml(template, command[4], raw_X, pred_y)\n",
    "        acc = check_output(command).split()\n",
    "        print(acc)\n",
    "        return float(acc[15])\n",
    "    elif domain == 'restaurant14':\n",
    "        label_res14_xml(template, command[4], raw_X, pred_y)\n",
    "        acc = check_output(command).split()\n",
    "        print(acc)\n",
    "        return float(acc[15])\n",
    "    elif domain == 'restaurant15':\n",
    "        label_res15_xml(template, command[5], raw_X, pred_y)\n",
    "        acc = check_output(command).split()\n",
    "        print(acc)\n",
    "        return float(acc[9][10:])"
   ]
  },
  {
   "cell_type": "code",
   "execution_count": 4,
   "metadata": {
    "ExecuteTime": {
     "end_time": "2021-05-26T09:27:41.694042Z",
     "start_time": "2021-05-26T09:27:41.690337Z"
    }
   },
   "outputs": [],
   "source": [
    "def evaluate(runs, data_dir, model_dir, domain, boundary_process, crf, generate_data, batch_size, num_process, command, template):\n",
    "    ae_data=np.load(data_dir+domain+\".npz\")\n",
    "    with open(data_dir+domain+\"_raw_test.json\") as f:\n",
    "        raw_X=json.load(f)\n",
    "    results=[]\n",
    "    for r in range(runs):\n",
    "        model=torch.load(model_dir+domain+str(r))\n",
    "        result=test(model, ae_data['test_X'], ae_data['test_y'], raw_X, domain, command, template, r, boundary_process, crf, generate_data, batch_size, num_process)\n",
    "        results.append(result)\n",
    "    with open('evaluate_log/Seq2Seq/evaluate.txt', 'a') as log:\n",
    "        log.write(str(time.strftime(\"%Y-%m-%d %H:%M:%S\", time.localtime())) + '\\n')\n",
    "        log.write('num_process: ' + str(num_process) + '\\n')\n",
    "        log.write('boundary_process: ' + str(boundary_process) + '\\n')\n",
    "        log.write('seed is: ' + str(seed) + '\\n')\n",
    "        log.write('batch_size is: ' + str(batch_size) + '\\n')\n",
    "        log.write('domain is: ' + domain + '\\n')\n",
    "        log.write('result is:' + str(sum(results)/len(results)) + '\\n' + '\\n')\n",
    "    print(sum(results)/len(results))"
   ]
  },
  {
   "cell_type": "code",
   "execution_count": 5,
   "metadata": {
    "ExecuteTime": {
     "end_time": "2021-05-26T09:28:58.192464Z",
     "start_time": "2021-05-26T09:27:41.694896Z"
    },
    "scrolled": true
   },
   "outputs": [
    {
     "name": "stdout",
     "output_type": "stream",
     "text": [
      "[b'Aspects', b'--------------------------------------', b'#System', b'Aspect', b'Terms=404', b'#Gold', b'Aspect', b'Terms=654', b'Pre:', b'0.9207921', b'(372/404)', b'Rec:', b'0.56880736', b'(372/654)', b'F:', b'0.70321363', b'Categories', b'--------------------------------------', b'#System', b'Aspect', b'Categories=0', b'#Gold', b'Aspect', b'Categories=0', b'Pre:', b'NaN', b'(0/0)', b'Rec:', b'NaN', b'(0/0)', b'F:', b'NaN']\n",
      "[b'Aspects', b'--------------------------------------', b'#System', b'Aspect', b'Terms=413', b'#Gold', b'Aspect', b'Terms=654', b'Pre:', b'0.9128329', b'(377/413)', b'Rec:', b'0.5764526', b'(377/654)', b'F:', b'0.70665425', b'Categories', b'--------------------------------------', b'#System', b'Aspect', b'Categories=0', b'#Gold', b'Aspect', b'Categories=0', b'Pre:', b'NaN', b'(0/0)', b'Rec:', b'NaN', b'(0/0)', b'F:', b'NaN']\n",
      "[b'Aspects', b'--------------------------------------', b'#System', b'Aspect', b'Terms=467', b'#Gold', b'Aspect', b'Terms=654', b'Pre:', b'0.89721626', b'(419/467)', b'Rec:', b'0.6406728', b'(419/654)', b'F:', b'0.7475469', b'Categories', b'--------------------------------------', b'#System', b'Aspect', b'Categories=0', b'#Gold', b'Aspect', b'Categories=0', b'Pre:', b'NaN', b'(0/0)', b'Rec:', b'NaN', b'(0/0)', b'F:', b'NaN']\n",
      "[b'Aspects', b'--------------------------------------', b'#System', b'Aspect', b'Terms=466', b'#Gold', b'Aspect', b'Terms=654', b'Pre:', b'0.90128756', b'(420/466)', b'Rec:', b'0.64220184', b'(420/654)', b'F:', b'0.75', b'Categories', b'--------------------------------------', b'#System', b'Aspect', b'Categories=0', b'#Gold', b'Aspect', b'Categories=0', b'Pre:', b'NaN', b'(0/0)', b'Rec:', b'NaN', b'(0/0)', b'F:', b'NaN']\n",
      "[b'Aspects', b'--------------------------------------', b'#System', b'Aspect', b'Terms=427', b'#Gold', b'Aspect', b'Terms=654', b'Pre:', b'0.90398127', b'(386/427)', b'Rec:', b'0.5902141', b'(386/654)', b'F:', b'0.7141535', b'Categories', b'--------------------------------------', b'#System', b'Aspect', b'Categories=0', b'#Gold', b'Aspect', b'Categories=0', b'Pre:', b'NaN', b'(0/0)', b'Rec:', b'NaN', b'(0/0)', b'F:', b'NaN']\n",
      "[0.70321363, 0.70665425, 0.7475469, 0.75, 0.7141535]\n",
      "0.7243136560000001\n"
     ]
    }
   ],
   "source": [
    "if __name__ == \"__main__\":\n",
    "    parser = argparse.ArgumentParser()\n",
    "    parser.add_argument('--runs', type=int, default=5)\n",
    "    parser.add_argument('--data_dir', type=str, default=\"data/prep_data/\")\n",
    "    parser.add_argument('--model_dir', type=str, default=\"model/Seq2Seq/\")\n",
    "    parser.add_argument('--domain', type=str, default=\"laptop\")\n",
    "    parser.add_argument('--batch_size', type=int, default=64)\n",
    "    parser.add_argument('--crf', type=bool, default=False)\n",
    "    parser.add_argument('--generate_data', type=bool, default=True)\n",
    "    parser.add_argument('--num_process', type=bool, default=True)\n",
    "    parser.add_argument('--boundary_process', type=bool, default=True)\n",
    "    args = parser.parse_known_args()[0]\n",
    "\n",
    "    if args.domain=='restaurant':\n",
    "        command=\"java -cp script/A.jar absa16.Do Eval -prd data/official_data/pred.xml -gld data/official_data/EN_REST_SB1_TEST.xml.gold -evs 2 -phs A -sbt SB1\"\n",
    "        template=\"data/official_data/EN_REST_SB1_TEST.xml.A\"\n",
    "    elif args.domain=='laptop':\n",
    "        command=\"java -cp script/eval.jar Main.Aspects data/official_data/pred.xml data/official_data/Laptops_Test_Gold.xml\"\n",
    "        template=\"data/official_data/Laptops_Test_Data_PhaseA.xml\"\n",
    "    elif args.domain=='restaurant14':\n",
    "        command=\"java -cp script/eval.jar Main.Aspects data/official_data/pred.xml data/official_data/Restaurants_Test_Gold.xml\"\n",
    "        template=\"data/official_data/Restaurants_Test_Data_PhaseA.xml\"\n",
    "    elif args.domain=='restaurant15':\n",
    "        command=\"java -cp script/A.jar absa15.Do Eval data/official_data/pred.xml data/official_data/ABSA15_Restaurants_Test.xml 2 0\"\n",
    "        template=\"data/official_data/ABSA15_Restaurants_Test_template.xml\"\n",
    "    evaluate(args.runs, args.data_dir, args.model_dir, args.domain, args.boundary_process, args.crf, args.generate_data, args.batch_size, args.num_process, command, template)"
   ]
  },
  {
   "cell_type": "code",
   "execution_count": 6,
   "metadata": {
    "ExecuteTime": {
     "end_time": "2021-05-26T09:28:58.198883Z",
     "start_time": "2021-05-26T09:28:58.193494Z"
    }
   },
   "outputs": [
    {
     "data": {
      "text/plain": [
       "0.725917508"
      ]
     },
     "execution_count": 6,
     "metadata": {},
     "output_type": "execute_result"
    }
   ],
   "source": [
    "0.6780045620000001\n",
    "\n",
    "0.725917508"
   ]
  }
 ],
 "metadata": {
  "kernelspec": {
   "display_name": "de-cnn",
   "language": "python",
   "name": "de-cnn"
  },
  "language_info": {
   "codemirror_mode": {
    "name": "ipython",
    "version": 3
   },
   "file_extension": ".py",
   "mimetype": "text/x-python",
   "name": "python",
   "nbconvert_exporter": "python",
   "pygments_lexer": "ipython3",
   "version": "3.7.9"
  },
  "toc": {
   "base_numbering": 1,
   "nav_menu": {},
   "number_sections": true,
   "sideBar": true,
   "skip_h1_title": false,
   "title_cell": "Table of Contents",
   "title_sidebar": "Contents",
   "toc_cell": false,
   "toc_position": {},
   "toc_section_display": true,
   "toc_window_display": false
  },
  "varInspector": {
   "cols": {
    "lenName": 16,
    "lenType": 16,
    "lenVar": 40
   },
   "kernels_config": {
    "python": {
     "delete_cmd_postfix": "",
     "delete_cmd_prefix": "del ",
     "library": "var_list.py",
     "varRefreshCmd": "print(var_dic_list())"
    },
    "r": {
     "delete_cmd_postfix": ") ",
     "delete_cmd_prefix": "rm(",
     "library": "var_list.r",
     "varRefreshCmd": "cat(var_dic_list()) "
    }
   },
   "types_to_exclude": [
    "module",
    "function",
    "builtin_function_or_method",
    "instance",
    "_Feature"
   ],
   "window_display": false
  }
 },
 "nbformat": 4,
 "nbformat_minor": 2
}
